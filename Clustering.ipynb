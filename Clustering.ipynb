{
 "cells": [
  {
   "cell_type": "code",
   "execution_count": 24,
   "metadata": {},
   "outputs": [
    {
     "name": "stdout",
     "output_type": "stream",
     "text": [
      "edges\t\t= 88234\n",
      "nodes\t\t= 4039\n",
      "P\t\t= 0.010820\n",
      "G_fb_acc\t= 0.605547\n",
      "G_rand_edges\t= 88650\n",
      "G_rand_acc\t= 0.010888\n"
     ]
    }
   ],
   "source": [
    "import networkx as nx\n",
    "from random import random\n",
    "\n",
    "# Read data from the dataset, and create graph G_fb\n",
    "G_fb = nx.read_edgelist(\"facebook_combined.txt\", create_using = nx.Graph(), nodetype=int)\n",
    "\n",
    "# Show the number of edges in G_fb\n",
    "edges = G_fb.number_of_edges()\n",
    "print(f\"edges\\t\\t= {edges}\")\n",
    "\n",
    "# Show number of nodes in G_fb\n",
    "nodes = G_fb.number_of_nodes()\n",
    "print(f\"nodes\\t\\t= {nodes}\")\n",
    "\n",
    "# TASK1. Now your task is to compute the probability whether there is an edge between two vertices.\n",
    "edge_probab = edges / (nodes * (nodes - 1) / 2)\n",
    "print(f\"P\\t\\t= {edge_probab:.6f}\")\n",
    "\n",
    "# TASK2. Compute the ACC (average clustering coefficient) of G_fb\n",
    "# (consult the NetworkX manual or the video lecture for the correct function which does it)\n",
    "av_clust_coeff =  nx.average_clustering(G_fb)\n",
    "print(f\"G_fb_acc\\t= {av_clust_coeff:.6f}\")\n",
    "\n",
    "# # Now we have to generate a random graph. First we initialize it\n",
    "G_rand = nx.Graph()\n",
    "\n",
    "# # TASK3. generate edges in G_rand at random:\n",
    "G_rand = nx.erdos_renyi_graph(n=nodes, p=edge_probab)\n",
    "# # Now we print out the number of edges and the ACC of the new graph\n",
    "print(\"G_rand_edges\\t= \" + str(G_rand.number_of_edges()))\n",
    "\n",
    "# # av_clust_coeff = ...\n",
    "av_clust_coeff =  nx.average_clustering(G_rand)\n",
    "print(f\"G_rand_acc\\t= {av_clust_coeff:.6f}\")\n",
    "\n",
    "# print(\"rgraph_acc = \" + str(av_clust_coeff));\n",
    "\n",
    "# The results which should be submitted to the grader include the ACC of G_fb and of G_rand. Good luck!\n"
   ]
  },
  {
   "cell_type": "code",
   "execution_count": null,
   "metadata": {},
   "outputs": [],
   "source": []
  }
 ],
 "metadata": {
  "kernelspec": {
   "display_name": "Python 3 (ipykernel)",
   "language": "python",
   "name": "python3"
  },
  "language_info": {
   "codemirror_mode": {
    "name": "ipython",
    "version": 3
   },
   "file_extension": ".py",
   "mimetype": "text/x-python",
   "name": "python",
   "nbconvert_exporter": "python",
   "pygments_lexer": "ipython3",
   "version": "3.9.1"
  }
 },
 "nbformat": 4,
 "nbformat_minor": 4
}
